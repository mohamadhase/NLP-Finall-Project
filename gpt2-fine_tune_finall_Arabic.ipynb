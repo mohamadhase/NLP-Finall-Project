{
 "cells": [
  {
   "attachments": {},
   "cell_type": "markdown",
   "metadata": {},
   "source": [
    "<div style=\"text-align:center;font-size:40pt\"> imports </div>"
   ]
  },
  {
   "cell_type": "code",
   "execution_count": 1,
   "metadata": {},
   "outputs": [
    {
     "name": "stderr",
     "output_type": "stream",
     "text": [
      "c:\\Users\\nasser\\.conda\\envs\\finall\\lib\\site-packages\\tqdm\\auto.py:21: TqdmWarning: IProgress not found. Please update jupyter and ipywidgets. See https://ipywidgets.readthedocs.io/en/stable/user_install.html\n",
      "  from .autonotebook import tqdm as notebook_tqdm\n"
     ]
    }
   ],
   "source": [
    "import tensorflow as tf\n",
    "from transformers import TFGPT2LMHeadModel, GPT2Tokenizer\n",
    "from tensorflow.keras.preprocessing.sequence import pad_sequences\n",
    "import pandas as pd"
   ]
  },
  {
   "attachments": {},
   "cell_type": "markdown",
   "metadata": {},
   "source": [
    "<div style=\"text-align:center;font-size:40pt\"> Load PreTrianed Model </div>"
   ]
  },
  {
   "attachments": {},
   "cell_type": "markdown",
   "metadata": {},
   "source": [
    "model : https://huggingface.co/akhooli/poetry2023"
   ]
  },
  {
   "cell_type": "code",
   "execution_count": 2,
   "metadata": {},
   "outputs": [
    {
     "name": "stderr",
     "output_type": "stream",
     "text": [
      "Some weights of the PyTorch model were not used when initializing the TF 2.0 model TFGPT2LMHeadModel: ['transformer.h.22.attn.masked_bias', 'transformer.h.5.attn.masked_bias', 'transformer.h.8.attn.masked_bias', 'transformer.h.23.attn.masked_bias', 'transformer.h.18.attn.masked_bias', 'transformer.h.10.attn.masked_bias', 'transformer.h.21.attn.masked_bias', 'transformer.h.20.attn.masked_bias', 'transformer.h.12.attn.masked_bias', 'transformer.h.16.attn.masked_bias', 'transformer.h.0.attn.masked_bias', 'transformer.h.2.attn.masked_bias', 'transformer.h.3.attn.masked_bias', 'transformer.h.15.attn.masked_bias', 'transformer.h.19.attn.masked_bias', 'transformer.h.17.attn.masked_bias', 'transformer.h.11.attn.masked_bias', 'transformer.h.4.attn.masked_bias', 'transformer.h.6.attn.masked_bias', 'transformer.h.9.attn.masked_bias', 'transformer.h.1.attn.masked_bias', 'transformer.h.13.attn.masked_bias', 'transformer.h.14.attn.masked_bias', 'lm_head.weight', 'transformer.h.7.attn.masked_bias']\n",
      "- This IS expected if you are initializing TFGPT2LMHeadModel from a PyTorch model trained on another task or with another architecture (e.g. initializing a TFBertForSequenceClassification model from a BertForPreTraining model).\n",
      "- This IS NOT expected if you are initializing TFGPT2LMHeadModel from a PyTorch model that you expect to be exactly identical (e.g. initializing a TFBertForSequenceClassification model from a BertForSequenceClassification model).\n",
      "All the weights of TFGPT2LMHeadModel were initialized from the PyTorch model.\n",
      "If your task is similar to the task the model of the checkpoint was trained on, you can already use TFGPT2LMHeadModel for predictions without further training.\n"
     ]
    }
   ],
   "source": [
    "model_name = 'akhooli/poetry2023'\n",
    "tokenizer = GPT2Tokenizer.from_pretrained(model_name)\n",
    "model = TFGPT2LMHeadModel.from_pretrained(model_name,from_pt=True)"
   ]
  },
  {
   "attachments": {},
   "cell_type": "markdown",
   "metadata": {},
   "source": [
    "<div style=\"text-align:center;font-size:40pt\"> Load Dataset </div>"
   ]
  },
  {
   "attachments": {},
   "cell_type": "markdown",
   "metadata": {},
   "source": [
    "dataset: https://www.kaggle.com/ultrajack/modern-renaissance-poetry"
   ]
  },
  {
   "cell_type": "code",
   "execution_count": 3,
   "metadata": {},
   "outputs": [
    {
     "data": {
      "text/plain": [
       "5101"
      ]
     },
     "execution_count": 3,
     "metadata": {},
     "output_type": "execute_result"
    }
   ],
   "source": [
    "df = pd.read_csv('Arabic_poetry_dataset.csv')\n",
    "df = df.sample(frac=1)\n",
    "df = df.sample(200)\n",
    "lines = df['poem_text'].values.tolist()\n",
    "lines = \"\\n\".join(lines)\n",
    "lines = lines.split(\"\\n\")\n",
    "len(lines)"
   ]
  },
  {
   "attachments": {},
   "cell_type": "markdown",
   "metadata": {},
   "source": [
    "<div style=\"text-align:center;font-size:40pt\"> Remove Tashkeel </div>"
   ]
  },
  {
   "cell_type": "code",
   "execution_count": 20,
   "metadata": {},
   "outputs": [],
   "source": [
    "import pyarabic.araby as araby\n",
    "lines = [araby.strip_tashkeel(line) for line in lines]"
   ]
  },
  {
   "attachments": {},
   "cell_type": "markdown",
   "metadata": {},
   "source": [
    "<div style=\"text-align:center;font-size:40pt\"> Tokenize the Dataset </div>"
   ]
  },
  {
   "cell_type": "code",
   "execution_count": 21,
   "metadata": {},
   "outputs": [
    {
     "name": "stdout",
     "output_type": "stream",
     "text": [
      "max-len = 11\n"
     ]
    }
   ],
   "source": [
    "tokenizer.pad_token = tokenizer.eos_token\n",
    "max_length = max([len(tokenizer.encode(line)) for line in lines])\n",
    "print(f\"max-len = {max_length}\")\n",
    "# Tokenize the lines\n",
    "tokenized_lines = tokenizer(\n",
    "    lines,\n",
    "    truncation=True,\n",
    "    padding='max_length',\n",
    "    max_length=max_length,\n",
    "    add_special_tokens=True\n",
    ")['input_ids']"
   ]
  },
  {
   "cell_type": "code",
   "execution_count": 22,
   "metadata": {},
   "outputs": [
    {
     "name": "stdout",
     "output_type": "stream",
     "text": [
      "original line: عليك بروحك السر الإلهي\n",
      "tokenized line: [276, 4319, 3529, 9411, 2993, 22813, 0, 0, 0, 0, 0]\n"
     ]
    }
   ],
   "source": [
    "print(f\"original line: {lines[0]}\")\n",
    "print(f\"tokenized line: {tokenized_lines[0]}\")"
   ]
  },
  {
   "attachments": {},
   "cell_type": "markdown",
   "metadata": {},
   "source": [
    "<div style=\"text-align:center;font-size:40pt\"> Create Sequences and labels  </div>"
   ]
  },
  {
   "cell_type": "code",
   "execution_count": 23,
   "metadata": {},
   "outputs": [],
   "source": [
    "# Flatten the tokenized lines\n",
    "input_sequences = [line[:-1] for line in tokenized_lines]\n",
    "labels = [line[1:] for line in tokenized_lines]"
   ]
  },
  {
   "cell_type": "code",
   "execution_count": 24,
   "metadata": {},
   "outputs": [
    {
     "name": "stdout",
     "output_type": "stream",
     "text": [
      "original line: عليك بروحك السر الإلهي\n",
      "input sequence : [276, 4319, 3529, 9411, 2993, 22813, 0, 0, 0, 0]\n",
      "input sequence as text: عليك بروحك السر الإلهي<|endoftext|><|endoftext|><|endoftext|><|endoftext|>\n",
      "label: [4319, 3529, 9411, 2993, 22813, 0, 0, 0, 0, 0]\n",
      "label as text: ليك بروحك السر الإلهي<|endoftext|><|endoftext|><|endoftext|><|endoftext|><|endoftext|>\n"
     ]
    }
   ],
   "source": [
    "print(f\"original line: {lines[0]}\")\n",
    "print(f\"input sequence : {input_sequences[0]}\")\n",
    "print(f\"input sequence as text: {tokenizer.decode(input_sequences[0])}\")\n",
    "print(f\"label: {labels[0]}\")\n",
    "print(f\"label as text: {tokenizer.decode(labels[0])}\")\n"
   ]
  },
  {
   "attachments": {},
   "cell_type": "markdown",
   "metadata": {},
   "source": [
    "<div style=\"text-align:center;font-size:40pt\"> Compile the model </div>"
   ]
  },
  {
   "cell_type": "code",
   "execution_count": 25,
   "metadata": {},
   "outputs": [],
   "source": [
    "# Fine-tuning parameters\n",
    "epochs = 5\n",
    "learning_rate = 1e-5\n",
    "# Compile the model\n",
    "model.compile(optimizer=tf.keras.optimizers.Adam(learning_rate=learning_rate),\n",
    "              loss=tf.keras.losses.SparseCategoricalCrossentropy(from_logits=True))"
   ]
  },
  {
   "attachments": {},
   "cell_type": "markdown",
   "metadata": {},
   "source": [
    "<div style=\"text-align:center;font-size:40pt\"> Train the model </div>"
   ]
  },
  {
   "cell_type": "code",
   "execution_count": 10,
   "metadata": {},
   "outputs": [
    {
     "name": "stdout",
     "output_type": "stream",
     "text": [
      "Epoch 1/5\n",
      "638/638 [==============================] - 284s 412ms/step - loss: 0.5502\n",
      "Epoch 2/5\n",
      "638/638 [==============================] - 256s 401ms/step - loss: 0.4157\n",
      "Epoch 3/5\n",
      "638/638 [==============================] - 250s 392ms/step - loss: 0.3661\n",
      "Epoch 4/5\n",
      "638/638 [==============================] - 252s 395ms/step - loss: 0.3111\n",
      "Epoch 5/5\n",
      "638/638 [==============================] - 239s 374ms/step - loss: 0.2518\n"
     ]
    },
    {
     "data": {
      "text/plain": [
       "<keras.callbacks.History at 0x287135add88>"
      ]
     },
     "execution_count": 10,
     "metadata": {},
     "output_type": "execute_result"
    }
   ],
   "source": [
    "# Fine-tuning\n",
    "model.fit(input_sequences,labels,batch_size = 8, epochs=epochs)\n"
   ]
  },
  {
   "attachments": {},
   "cell_type": "markdown",
   "metadata": {},
   "source": [
    "<div style=\"text-align:center;font-size:40pt\"> Test the model output </div>"
   ]
  },
  {
   "cell_type": "code",
   "execution_count": 11,
   "metadata": {},
   "outputs": [],
   "source": [
    "seed_test = \"الشتاء\"\n",
    "input_ids = tokenizer.encode(seed_test, return_tensors='tf')\n",
    "\n",
    "sample_outputs = model.generate(\n",
    "    input_ids, # The input sequence encoded as token IDs.\n",
    "    do_sample=True,\n",
    "    max_length=100,  # The maximum length of the generated output.\n",
    "    top_k=0,\n",
    "    top_p=0.9,\n",
    "    temperature=1,\n",
    "    num_return_sequences=1,\n",
    "    pad_token_id=tokenizer.eos_token_id\n",
    ")\n",
    "\n",
    "output = tokenizer.decode(sample_outputs[0], skip_special_tokens=True)\n",
    "output = output.replace('-', '\\n')\n",
    "print(output)\n"
   ]
  },
  {
   "cell_type": "code",
   "execution_count": 27,
   "metadata": {},
   "outputs": [
    {
     "data": {
      "text/plain": [
       "1238"
      ]
     },
     "execution_count": 27,
     "metadata": {},
     "output_type": "execute_result"
    }
   ],
   "source": [
    "# create validation sequences\n",
    "df = pd.read_csv('Arabic_poetry_dataset.csv')\n",
    "df = df.sample(frac=1)\n",
    "df = df.sample(30)\n",
    "lines = df['poem_text'].values.tolist()\n",
    "lines = \"\\n\".join(lines)\n",
    "lines = lines.split(\"\\n\")\n",
    "len(lines)"
   ]
  },
  {
   "cell_type": "code",
   "execution_count": 28,
   "metadata": {},
   "outputs": [
    {
     "name": "stdout",
     "output_type": "stream",
     "text": [
      "max-len = 56\n"
     ]
    }
   ],
   "source": [
    "tokenizer.pad_token = tokenizer.eos_token\n",
    "max_length = max([len(tokenizer.encode(line)) for line in lines])\n",
    "print(f\"max-len = {max_length}\")\n",
    "# Tokenize the lines\n",
    "tokenized_lines = tokenizer(\n",
    "    lines,\n",
    "    truncation=True,\n",
    "    padding='max_length',\n",
    "    max_length=max_length,\n",
    "    add_special_tokens=True\n",
    ")['input_ids']"
   ]
  },
  {
   "cell_type": "code",
   "execution_count": 29,
   "metadata": {},
   "outputs": [],
   "source": [
    "# Flatten the tokenized lines\n",
    "validation_sequences = [line[:-1] for line in tokenized_lines]\n",
    "validation_labels = [line[1:] for line in tokenized_lines]"
   ]
  },
  {
   "cell_type": "code",
   "execution_count": 31,
   "metadata": {},
   "outputs": [
    {
     "name": "stdout",
     "output_type": "stream",
     "text": [
      "Perplexity: 18.51316833496094\n"
     ]
    }
   ],
   "source": [
    "# Calculate perplexity\n",
    "loss = model.evaluate(validation_sequences, validation_labels, verbose=0)\n",
    "perplexity = tf.exp(loss)\n",
    "print(f\"Perplexity: {perplexity}\")"
   ]
  },
  {
   "cell_type": "code",
   "execution_count": 12,
   "metadata": {},
   "outputs": [],
   "source": [
    "# # save model\n",
    "# model.save_pretrained('models/arabic/gpt2-poems.ar')\n",
    "# # save tokenizer\n",
    "# tokenizer.save_pretrained('models/arabic/gpt2-poems-tokenizer.ar')"
   ]
  }
 ],
 "metadata": {
  "kernelspec": {
   "display_name": "finall",
   "language": "python",
   "name": "python3"
  },
  "language_info": {
   "codemirror_mode": {
    "name": "ipython",
    "version": 3
   },
   "file_extension": ".py",
   "mimetype": "text/x-python",
   "name": "python",
   "nbconvert_exporter": "python",
   "pygments_lexer": "ipython3",
   "version": "3.7.12"
  },
  "orig_nbformat": 4
 },
 "nbformat": 4,
 "nbformat_minor": 2
}
